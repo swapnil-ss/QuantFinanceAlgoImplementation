{
  "nbformat": 4,
  "nbformat_minor": 0,
  "metadata": {
    "colab": {
      "name": "bond_pricing.ipynb",
      "provenance": [],
      "include_colab_link": true
    },
    "kernelspec": {
      "name": "python3",
      "display_name": "Python 3"
    }
  },
  "cells": [
    {
      "cell_type": "markdown",
      "metadata": {
        "id": "view-in-github",
        "colab_type": "text"
      },
      "source": [
        "<a href=\"https://colab.research.google.com/github/swapnil-ss/QuantFinanceAlgoImplementation/blob/master/bond_pricing.ipynb\" target=\"_parent\"><img src=\"https://colab.research.google.com/assets/colab-badge.svg\" alt=\"Open In Colab\"/></a>"
      ]
    },
    {
      "cell_type": "code",
      "metadata": {
        "id": "WjeEEKM4VI02",
        "colab_type": "code",
        "colab": {
          "base_uri": "https://localhost:8080/",
          "height": 51
        },
        "outputId": "51934e52-89b2-4452-9795-24b3b67c334a"
      },
      "source": [
        "from math import exp\n",
        "\n",
        "# price of zero coupon bond\n",
        "def zero_bond_price(par_value, market_value, n):\n",
        "  return par_value/(1+market_value)**n\n",
        "\n",
        "# price of coupon\n",
        "def bond_price(par_value, coupon, market_rate, n):\n",
        "  c = par_value*coupon\n",
        "  return c/market_rate*(1-(1/(1+market_rate)**n)) + par_value/(1+market_rate)**n\n",
        "\n",
        "if __name__==\"__main__\":\n",
        "  par_value = 1000\n",
        "  coupon = 0.05\n",
        "  n = 3\n",
        "  market_rate = 0.04\n",
        "  print(zero_bond_price(par_value,market_rate,n))\n",
        "  print(bond_price(par_value,coupon,market_rate,n))\n"
      ],
      "execution_count": 6,
      "outputs": [
        {
          "output_type": "stream",
          "text": [
            "888.9963586709148\n",
            "1027.7509103322711\n"
          ],
          "name": "stdout"
        }
      ]
    }
  ]
}