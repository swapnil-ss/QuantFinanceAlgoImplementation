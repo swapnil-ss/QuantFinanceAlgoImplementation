{
  "nbformat": 4,
  "nbformat_minor": 0,
  "metadata": {
    "colab": {
      "name": "BlackScholesImplementation.ipynb",
      "provenance": [],
      "include_colab_link": true
    },
    "kernelspec": {
      "name": "python3",
      "display_name": "Python 3"
    }
  },
  "cells": [
    {
      "cell_type": "markdown",
      "metadata": {
        "id": "view-in-github",
        "colab_type": "text"
      },
      "source": [
        "<a href=\"https://colab.research.google.com/github/swapnil-ss/QuantFinanceAlgoImplementation/blob/master/BlackScholesImplementation.ipynb\" target=\"_parent\"><img src=\"https://colab.research.google.com/assets/colab-badge.svg\" alt=\"Open In Colab\"/></a>"
      ]
    },
    {
      "cell_type": "code",
      "metadata": {
        "id": "qC25b4cKJpWM",
        "colab_type": "code",
        "colab": {
          "base_uri": "https://localhost:8080/",
          "height": 119
        },
        "outputId": "d43c84b4-100f-4362-8601-6a532e06aa24"
      },
      "source": [
        "import numpy as np\n",
        "import pandas as pd\n",
        "from scipy import log, exp, sqrt, stats\n",
        "\n",
        "def blackscholes_call(S,E,T,rf,sigma):\n",
        "  d1 = (log(S/E)+(rf+sigma*sigma/2.0)*T)/(sigma*sqrt(T))\n",
        "  d2 = d1 - sigma*sqrt(T)\n",
        "  print(d1)\n",
        "  print(d2)\n",
        "  return S*stats.norm.cdf(d1)-E*exp(-rf*T)*stats.norm.cdf(d2)\n",
        "\n",
        "def blackscholes_put(S,E,T,rf,sigma):\n",
        "  d1 = (log(S/E)+(rf+sigma*sigma/2.0)*T)/(sigma*sqrt(T))\n",
        "  d2 = d1 - sigma*sqrt(T)\n",
        "  print(d1)\n",
        "  print(d2)\n",
        "  return -S*stats.norm.cdf(-d1)+E*exp(-rf*T)*stats.norm.cdf(-d2)\n",
        "\n",
        "if __name__==\"__main__\":\n",
        "  S0 = 100\n",
        "  E = 100\n",
        "  T = 1\n",
        "  rf = 0.05\n",
        "  sigma = 0.2\n",
        "  print(blackscholes_call(S0,E,T,rf,sigma))\n",
        "  print(blackscholes_put(S0,E,T,rf,sigma))"
      ],
      "execution_count": 2,
      "outputs": [
        {
          "output_type": "stream",
          "text": [
            "0.35000000000000003\n",
            "0.15000000000000002\n",
            "10.450583572185565\n",
            "0.35000000000000003\n",
            "0.15000000000000002\n",
            "5.573526022256971\n"
          ],
          "name": "stdout"
        }
      ]
    }
  ]
}