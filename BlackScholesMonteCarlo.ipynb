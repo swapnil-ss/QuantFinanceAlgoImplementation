{
  "nbformat": 4,
  "nbformat_minor": 0,
  "metadata": {
    "colab": {
      "name": "BlackScholesMonteCarlo.ipynb",
      "provenance": [],
      "include_colab_link": true
    },
    "kernelspec": {
      "name": "python3",
      "display_name": "Python 3"
    }
  },
  "cells": [
    {
      "cell_type": "markdown",
      "metadata": {
        "id": "view-in-github",
        "colab_type": "text"
      },
      "source": [
        "<a href=\"https://colab.research.google.com/github/swapnil-ss/QuantFinanceAlgoImplementation/blob/master/BlackScholesMonteCarlo.ipynb\" target=\"_parent\"><img src=\"https://colab.research.google.com/assets/colab-badge.svg\" alt=\"Open In Colab\"/></a>"
      ]
    },
    {
      "cell_type": "code",
      "metadata": {
        "id": "FVLJwBVdjZE8",
        "colab_type": "code",
        "colab": {
          "base_uri": "https://localhost:8080/",
          "height": 51
        },
        "outputId": "f7e0c486-be2b-4d9d-f348-c4d3fe836dd1"
      },
      "source": [
        "import numpy as np\n",
        "import math\n",
        "import time\n",
        " \n",
        "class OptionPricing:\n",
        "    \n",
        "\tdef __init__(self,S0,E,T,rf,sigma,iterations):\n",
        "\t\tself.S0 = S0\n",
        "\t\tself.E = E\n",
        "\t\tself.T = T\n",
        "\t\tself.rf = rf\n",
        "\t\tself.sigma = sigma     \n",
        "\t\tself.iterations = iterations \n",
        " \n",
        "\tdef call_option_simulation(self):\n",
        "\t\t\n",
        "\t\t#we have 2 columns: first with 0s the second column will store the payoff\n",
        "\t\t#we need the first column of 0s: payoff function is max(0,S-E) for call option\n",
        "\t\toption_data = np.zeros([self.iterations, 2])\n",
        "\t\t\n",
        "\t\t#dimensions: 1 dimensional array with as many items as the itrations\n",
        "\t\trand = np.random.normal(0, 1, [1, self.iterations])\n",
        "\t\t\n",
        "\t\t#equation for the S(t) stock price\n",
        "\t\tstock_price = self.S0*np.exp(self.T*(self.rf - 0.5*self.sigma**2)+self.sigma*np.sqrt(self.T)*rand)\n",
        " \n",
        "\t\t#we need S-E because we have to calculate the max(S-E,0)\n",
        "\t\toption_data[:,1] = stock_price - self.E   \n",
        "        \n",
        "\t\t#average for the Monte-Carlo method\n",
        "\t\t#np.amax() returns the max(0,S-E) according to the formula\n",
        "\t\taverage = np.sum(np.amax(option_data, axis=1))/float(self.iterations)\n",
        " \n",
        "\t\t#have to use the exp(-rT) discount factor\n",
        "\t\treturn np.exp(-1.0*self.rf*self.T)*average\n",
        "\t\t\n",
        "\tdef put_option_simulation(self):\n",
        "\t\n",
        "\t\t#we have 2 columns: first with 0s the second column will store the payoff\n",
        "\t\t#we need the first column of 0s: payoff function is max(0,E-S) for put option\n",
        "\t\toption_data = np.zeros([self.iterations, 2])\n",
        "\t\t\n",
        "\t\t#dimensions: 1 dimensional array with as many items as the itrations\n",
        "\t\trand = np.random.normal(0, 1, [1, self.iterations])\n",
        "\t\t\n",
        "\t\t#equation for the S(t) stock price\n",
        "\t\tstock_price = self.S0*np.exp(self.T*(self.rf - 0.5*self.sigma**2)+self.sigma*np.sqrt(self.T)*rand)\n",
        " \n",
        "\t\t#we need E-S because we have to calculate the max(E-S,0)\n",
        "\t\toption_data[:,1] = self.E - stock_price  \n",
        "        \n",
        "\t\t#average for the Monte-Carlo method\n",
        "\t\t#np.amax() returns the max(0,E-S) according to the formula\n",
        "\t\taverage = np.sum(np.amax(option_data, axis=1))/float(self.iterations)\n",
        " \n",
        "\t\t#have to use the exp(-rT) discount factor\n",
        "\t\treturn np.exp(-1.0*self.rf*self.T)*average\n",
        "\n",
        "if __name__ == \"__main__\":\n",
        "\t\n",
        "\tS0=100\t\t\t\t\t#underlying stock price at t=0\n",
        "\tE=100\t\t\t\t\t#strike price\n",
        "\tT = 1\t\t\t\t\t#expiry\n",
        "\trf = 0.05\t\t\t\t#risk-free rate\n",
        "\tsigma=0.2\t\t\t\t#volatility of the underlying stock\n",
        "\titerations = 1000000\t#number of iterations in the Monte-Carlo simulation\t\n",
        "\t\n",
        "\tmodel = OptionPricing(S0,E,T,rf,sigma,iterations)\n",
        "\tprint(\"Call option price with Monte-Carlo approach: \", model.call_option_simulation()) \n",
        "\tprint(\"Put option price with Monte-Carlo approach: \", model.put_option_simulation())\n"
      ],
      "execution_count": 15,
      "outputs": [
        {
          "output_type": "stream",
          "text": [
            "Call option price with Monte-Carlo approach:  10.45627657172805\n",
            "Put option price with Monte-Carlo approach:  5.584683884576641\n"
          ],
          "name": "stdout"
        }
      ]
    },
    {
      "cell_type": "code",
      "metadata": {
        "id": "cWklMzl6kQIV",
        "colab_type": "code",
        "colab": {
          "base_uri": "https://localhost:8080/",
          "height": 51
        },
        "outputId": "1e7da9c4-7006-443b-cce3-e6c39676e703"
      },
      "source": [
        "import numpy as np\n",
        "option_data = np.zeros([1000,2])\n",
        "#print(option_data)\n",
        "rand = np.random.normal(0,1,[1,1000])\n",
        "stock_price = 100*np.exp(1*(0.05 - 0.5*0.2**2)+0.2*np.sqrt(1)*rand)\n",
        "#stock_price\n",
        "option_data[:,1] = stock_price - 100\n",
        "average = np.sum(np.amax(option_data, axis=1))/float(1000)\n",
        "\n",
        "print(np.exp(-1.0*0.05*1)*average)\n"
      ],
      "execution_count": 12,
      "outputs": [
        {
          "output_type": "stream",
          "text": [
            "10.765964604552181\n",
            "10.240902314983229\n"
          ],
          "name": "stdout"
        }
      ]
    }
  ]
}