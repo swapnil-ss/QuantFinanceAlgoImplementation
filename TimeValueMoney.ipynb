{
  "nbformat": 4,
  "nbformat_minor": 0,
  "metadata": {
    "colab": {
      "name": "TimeValueMoney.ipynb",
      "provenance": [],
      "include_colab_link": true
    },
    "kernelspec": {
      "name": "python3",
      "display_name": "Python 3"
    }
  },
  "cells": [
    {
      "cell_type": "markdown",
      "metadata": {
        "id": "view-in-github",
        "colab_type": "text"
      },
      "source": [
        "<a href=\"https://colab.research.google.com/github/swapnil-ss/QuantFinanceAlgoImplementation/blob/master/TimeValueMoney.ipynb\" target=\"_parent\"><img src=\"https://colab.research.google.com/assets/colab-badge.svg\" alt=\"Open In Colab\"/></a>"
      ]
    },
    {
      "cell_type": "code",
      "metadata": {
        "id": "muUOjv6vrD-E",
        "colab_type": "code",
        "colab": {
          "base_uri": "https://localhost:8080/",
          "height": 85
        },
        "outputId": "29a5ac24-c603-4299-fbfd-0dad693ef03b"
      },
      "source": [
        "from math import exp\n",
        "\n",
        "def discrete_future_value(x,r,n):\n",
        "  return x*(1+r)**n\n",
        "\n",
        "def discrete_present_value(x,r,n):\n",
        "  return x*(1+r)**(-n)\n",
        "\n",
        "def continuous_future_value(x,r,t):\n",
        "  return x*exp(r*t)\n",
        "\n",
        "def continuous_present_value(x,r,t):\n",
        "  return x*exp(-r*t)\n",
        "\n",
        "if __name__ == \"__main__\":\n",
        "    \n",
        "\tx=100  #value of investment in dollars\n",
        "\tr=0.05 #interest rate\n",
        "\tn=5\t   #years\n",
        "\t\n",
        "\tprint(\"Future value of $100 in 5 year (discrete model): \", discrete_future_value(x,r,n))\n",
        "\tprint(\"Future value of $100 in 5 year (continuous model): \", continuous_future_value(x,r,n))\n",
        "\tprint(\"Present value of $100 in 5 year (discrete model): \", discrete_present_value(x,r,n))\n",
        "\tprint(\"Present value of $100 in 5 year (continuous model): \", continuous_present_value(x,r,n))\n"
      ],
      "execution_count": 1,
      "outputs": [
        {
          "output_type": "stream",
          "text": [
            "Future value of $100 in 5 year (discrete model):  127.62815625000003\n",
            "Future value of $100 in 5 year (continuous model):  128.40254166877415\n",
            "Present value of $100 in 5 year (discrete model):  78.35261664684589\n",
            "Present value of $100 in 5 year (continuous model):  77.8800783071405\n"
          ],
          "name": "stdout"
        }
      ]
    }
  ]
}