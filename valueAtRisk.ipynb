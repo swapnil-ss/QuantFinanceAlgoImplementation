{
  "nbformat": 4,
  "nbformat_minor": 0,
  "metadata": {
    "colab": {
      "name": "valueAtRisk.ipynb",
      "provenance": [],
      "include_colab_link": true
    },
    "kernelspec": {
      "name": "python3",
      "display_name": "Python 3"
    }
  },
  "cells": [
    {
      "cell_type": "markdown",
      "metadata": {
        "id": "view-in-github",
        "colab_type": "text"
      },
      "source": [
        "<a href=\"https://colab.research.google.com/github/swapnil-ss/QuantFinanceAlgoImplementation/blob/master/valueAtRisk.ipynb\" target=\"_parent\"><img src=\"https://colab.research.google.com/assets/colab-badge.svg\" alt=\"Open In Colab\"/></a>"
      ]
    },
    {
      "cell_type": "code",
      "metadata": {
        "id": "aqp5RP8VJ3dr",
        "colab_type": "code",
        "colab": {
          "base_uri": "https://localhost:8080/",
          "height": 85
        },
        "outputId": "f152df52-ba6c-4737-e65c-5dff3f61b8b7"
      },
      "source": [
        "import numpy as np\n",
        "import pandas as pd\n",
        "from scipy.stats import norm\n",
        "import pandas_datareader.data as web\n",
        "import datetime\n",
        "\n",
        "def value_at_risk1(position, c, mu, sigma,n):\n",
        "  alpha = norm.ppf(1-c)\n",
        "  print(alpha)\n",
        "  var = position*(mu*n-alpha*sigma*np.sqrt(n))\n",
        "  return var\n",
        "\n",
        "def value_at_risk(position, c, mu, sigma):\n",
        "  alpha = norm.ppf(1-c)\n",
        "  print(alpha)\n",
        "  var = position*(mu-alpha*sigma)\n",
        "  return var\n",
        "\n",
        "start_date = datetime.datetime(2014,1,1)\n",
        "end_date = datetime.datetime(2017,10,15)\n",
        "\n",
        "citi = web.DataReader('C', data_source = 'yahoo', start = start_date, end = end_date)\n",
        "citi['returns'] = citi['Adj Close'].pct_change()\n",
        "S = 1e6\n",
        "c = 0.95\n",
        "mu = np.mean(citi['returns'])\n",
        "sigma = np.std(citi['returns'])\n",
        "print(value_at_risk(S,c,mu,sigma)) \n",
        "print(value_at_risk1(S,c,mu,sigma,100))\n",
        "\n",
        "\n"
      ],
      "execution_count": 9,
      "outputs": [
        {
          "output_type": "stream",
          "text": [
            "-1.6448536269514722\n",
            "25865.642510856997\n",
            "-1.6448536269514722\n",
            "301978.7915627568\n"
          ],
          "name": "stdout"
        }
      ]
    }
  ]
}